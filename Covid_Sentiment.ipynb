{
 "cells": [
  {
   "cell_type": "code",
   "execution_count": 4,
   "metadata": {},
   "outputs": [],
   "source": [
    "import pandas as pd\n",
    "import torch.nn as nn\n",
    "import torch.nn.functional as F\n",
    "import torch.optim as optim\n",
    "import torch\n",
    "import re\n",
    "from transformers import RobertaTokenizer"
   ]
  },
  {
   "cell_type": "code",
   "execution_count": 6,
   "metadata": {},
   "outputs": [],
   "source": [
    "train_data = pd.read_csv('../data/corona_tweets/coronanlp.csv',encoding='latin-1')\n",
    "df_test = pd.read_csv('../data/corona_tweets/coronanlp.csv', encoding=\"latin-1\")"
   ]
  },
  {
   "cell_type": "code",
   "execution_count": 7,
   "metadata": {},
   "outputs": [
    {
     "data": {
      "text/html": [
       "<div>\n",
       "<style scoped>\n",
       "    .dataframe tbody tr th:only-of-type {\n",
       "        vertical-align: middle;\n",
       "    }\n",
       "\n",
       "    .dataframe tbody tr th {\n",
       "        vertical-align: top;\n",
       "    }\n",
       "\n",
       "    .dataframe thead th {\n",
       "        text-align: right;\n",
       "    }\n",
       "</style>\n",
       "<table border=\"1\" class=\"dataframe\">\n",
       "  <thead>\n",
       "    <tr style=\"text-align: right;\">\n",
       "      <th></th>\n",
       "      <th>UserName</th>\n",
       "      <th>ScreenName</th>\n",
       "      <th>Location</th>\n",
       "      <th>TweetAt</th>\n",
       "      <th>OriginalTweet</th>\n",
       "      <th>Sentiment</th>\n",
       "    </tr>\n",
       "  </thead>\n",
       "  <tbody>\n",
       "    <tr>\n",
       "      <th>0</th>\n",
       "      <td>3799</td>\n",
       "      <td>48751</td>\n",
       "      <td>London</td>\n",
       "      <td>16-03-2020</td>\n",
       "      <td>@MeNyrbie @Phil_Gahan @Chrisitv https://t.co/i...</td>\n",
       "      <td>Neutral</td>\n",
       "    </tr>\n",
       "    <tr>\n",
       "      <th>1</th>\n",
       "      <td>3800</td>\n",
       "      <td>48752</td>\n",
       "      <td>UK</td>\n",
       "      <td>16-03-2020</td>\n",
       "      <td>advice Talk to your neighbours family to excha...</td>\n",
       "      <td>Positive</td>\n",
       "    </tr>\n",
       "    <tr>\n",
       "      <th>2</th>\n",
       "      <td>3801</td>\n",
       "      <td>48753</td>\n",
       "      <td>Vagabonds</td>\n",
       "      <td>16-03-2020</td>\n",
       "      <td>Coronavirus Australia: Woolworths to give elde...</td>\n",
       "      <td>Positive</td>\n",
       "    </tr>\n",
       "    <tr>\n",
       "      <th>3</th>\n",
       "      <td>3802</td>\n",
       "      <td>48754</td>\n",
       "      <td>NaN</td>\n",
       "      <td>16-03-2020</td>\n",
       "      <td>My food stock is not the only one which is emp...</td>\n",
       "      <td>Positive</td>\n",
       "    </tr>\n",
       "    <tr>\n",
       "      <th>4</th>\n",
       "      <td>3803</td>\n",
       "      <td>48755</td>\n",
       "      <td>NaN</td>\n",
       "      <td>16-03-2020</td>\n",
       "      <td>Me, ready to go at supermarket during the #COV...</td>\n",
       "      <td>Extremely Negative</td>\n",
       "    </tr>\n",
       "  </tbody>\n",
       "</table>\n",
       "</div>"
      ],
      "text/plain": [
       "   UserName  ScreenName   Location     TweetAt  \\\n",
       "0      3799       48751     London  16-03-2020   \n",
       "1      3800       48752         UK  16-03-2020   \n",
       "2      3801       48753  Vagabonds  16-03-2020   \n",
       "3      3802       48754        NaN  16-03-2020   \n",
       "4      3803       48755        NaN  16-03-2020   \n",
       "\n",
       "                                       OriginalTweet           Sentiment  \n",
       "0  @MeNyrbie @Phil_Gahan @Chrisitv https://t.co/i...             Neutral  \n",
       "1  advice Talk to your neighbours family to excha...            Positive  \n",
       "2  Coronavirus Australia: Woolworths to give elde...            Positive  \n",
       "3  My food stock is not the only one which is emp...            Positive  \n",
       "4  Me, ready to go at supermarket during the #COV...  Extremely Negative  "
      ]
     },
     "execution_count": 7,
     "metadata": {},
     "output_type": "execute_result"
    }
   ],
   "source": [
    "train_data.head(5)"
   ]
  },
  {
   "cell_type": "code",
   "execution_count": 10,
   "metadata": {},
   "outputs": [
    {
     "data": {
      "text/plain": [
       "'Coronavirus Australia: Woolworths to give elderly, disabled dedicated shopping hours amid COVID-19 outbreak https://t.co/bInCA9Vp8P'"
      ]
     },
     "execution_count": 10,
     "metadata": {},
     "output_type": "execute_result"
    }
   ],
   "source": [
    "train_data['OriginalTweet'][2]"
   ]
  },
  {
   "cell_type": "code",
   "execution_count": 3,
   "metadata": {},
   "outputs": [],
   "source": [
    "class DataProcessor():\n",
    "    \"\"\"\n",
    "    Preparing data for training\n",
    "    \"\"\"\n",
    "    def __init__(self, data: pd.DataFrame, tokenizer: RobertaTokenizer):\n",
    "        self.data = data\n",
    "        self.tokenizer = tokenizer\n",
    "     \n",
    "    def _delete_hash(self, hash):\n",
    "        to_remove = ['\\r','\\n',',',';',':','.']\n",
    "        out = re.sub(r'http\\S+', '', hash)\n",
    "        for token in to_remove:\n",
    "            out = out.replace(token, '')\n",
    "        return re.sub(' +', ' ', out.lower())\n",
    "    \n",
    "    def _remove_extra_char(self, data: pd.DataFrame) -> pd.DataFrame:\n",
    "        data['OriginalTweet'] = data['OriginalTweet'].apply(lambda x : self._delete_hash(x))\n",
    "        return data\n",
    "    \n",
    "    def _map_reviews_to_num(self, data: pd.DataFrame) -> pd.DataFrame:\n",
    "        data['Sentiment'] = data['Sentiment'].map(\n",
    "            {\n",
    "                \"Extremely Negative\" : 0,\n",
    "                \"Negative\" : 1,\n",
    "                \"Neutral\" : 2,\n",
    "                \"Positive\" : 3,\n",
    "                \"Extremely Positive\" : 4\n",
    "            }\n",
    "        )\n",
    "        return data\n",
    "    \n",
    "    def _tokenize(self,x):\n",
    "        return self.tokenizer.encode(x, padding='max_length')\n",
    "        \n",
    "    def _tokenize_data(self, data):\n",
    "        return list(data[\"OriginalTweet\"].apply(lambda x : self._tokenize(x)))\n",
    "    \n",
    "    def process(self):\n",
    "        result = self._remove_extra_char(self.data)\n",
    "        result = self._map_reviews_to_num(result)\n",
    "        tokens = self._tokenize_data(result)\n",
    "        result = result[\"Sentiment\"]\n",
    "        return tokens, result\n",
    "        "
   ]
  },
  {
   "cell_type": "code",
   "execution_count": 4,
   "metadata": {},
   "outputs": [],
   "source": [
    "tokenizer = RobertaTokenizer.from_pretrained(\"roberta-base\")\n",
    "tokenizer.model_max_length = 200\n",
    "data = DataProcessor(train_data, tokenizer)"
   ]
  },
  {
   "cell_type": "code",
   "execution_count": 5,
   "metadata": {},
   "outputs": [],
   "source": [
    "train,target = data.process()"
   ]
  },
  {
   "cell_type": "code",
   "execution_count": 6,
   "metadata": {},
   "outputs": [],
   "source": [
    "from torch.utils.data import Dataset"
   ]
  },
  {
   "cell_type": "code",
   "execution_count": 7,
   "metadata": {},
   "outputs": [],
   "source": [
    "class CreateDataset(Dataset):\n",
    "    def __init__(self, data, labels):\n",
    "        super().__init__()\n",
    "        self.data = data\n",
    "        self.labels = labels\n",
    "        \n",
    "    def __getitem__(self, idx):\n",
    "        return torch.tensor(self.data[idx]), torch.tensor(self.labels[idx])\n",
    "    \n",
    "    def __len__(self):\n",
    "        return len(self.labels)"
   ]
  },
  {
   "cell_type": "code",
   "execution_count": 8,
   "metadata": {},
   "outputs": [],
   "source": [
    "train_dataset = CreateDataset(train, target)"
   ]
  },
  {
   "cell_type": "code",
   "execution_count": 9,
   "metadata": {},
   "outputs": [],
   "source": [
    "from torch.utils.data import DataLoader"
   ]
  },
  {
   "cell_type": "code",
   "execution_count": 10,
   "metadata": {},
   "outputs": [],
   "source": [
    "train_loader = DataLoader(train_dataset, batch_size = 32)"
   ]
  },
  {
   "cell_type": "code",
   "execution_count": 11,
   "metadata": {},
   "outputs": [],
   "source": [
    "class NetWork(nn.Module):\n",
    "    def __init__(self, vocab_size, embedding_dim):\n",
    "        super().__init__()\n",
    "        self.embedding = nn.Embedding(vocab_size, embedding_dim)\n",
    "        self.lstm = nn.LSTM(input_size = embedding_dim, \n",
    "                            hidden_size = 256, \n",
    "                            num_layers = 4,\n",
    "                            dropout = 0.2,\n",
    "                            batch_first = True,\n",
    "                            bidirectional = True)\n",
    "        self.linear = nn.Linear(512*200, 5)\n",
    "        \n",
    "    def forward(self, inputs):\n",
    "        emb = self.embedding(inputs)\n",
    "        lstm, _ = self.lstm(emb)\n",
    "        output = self.linear(lstm.reshape(lstm.size()[0], -1))\n",
    "        return output"
   ]
  },
  {
   "cell_type": "code",
   "execution_count": 12,
   "metadata": {},
   "outputs": [],
   "source": [
    "device = torch.device(\"cuda\" if torch.cuda.is_available() else \"cpu\")\n",
    "model = NetWork(tokenizer.vocab_size, 256).to(device)\n",
    "loss_function = torch.nn.CrossEntropyLoss()\n",
    "optimizer = torch.optim.Adam(model.parameters())"
   ]
  },
  {
   "cell_type": "code",
   "execution_count": 13,
   "metadata": {},
   "outputs": [],
   "source": [
    "class Train_text():\n",
    "    def __init__(self, model, train_loader):\n",
    "        self.model = model\n",
    "        self.train_loader = train_loader\n",
    "        \n",
    "    def train(self, loss_function, optimizer):\n",
    "        model.train()\n",
    "        total_acc, total_count = 0, 0\n",
    "        log_interval = 100\n",
    "        for epoch in range(2):\n",
    "            iterator = enumerate(self.train_loader)\n",
    "            for i,( inputs, target) in iterator:\n",
    "                inputs, target = inputs.to(device), target.to(device)       \n",
    "                self.model.zero_grad()\n",
    "                outputs = self.model(inputs)\n",
    "                loss = loss_function(outputs, target)\n",
    "                loss.backward()\n",
    "                torch.nn.utils.clip_grad_norm_(model.parameters(), 0.1)\n",
    "                optimizer.step()\n",
    "                total_acc += (outputs.argmax(1) == target).sum().item()\n",
    "                total_count += target.size(0)\n",
    "                if i % log_interval == 0 and i > 0:\n",
    "                    print('| epoch {:3d} | {:5d}/{:5d} batches '\n",
    "                          '| accuracy {:8.3f}'.format(epoch, i, len(self.train_loader),\n",
    "                                                      total_acc/total_count))\n",
    "                    total_acc, total_count = 0, 0\n",
    "                    \n",
    "    def evaluate(dataloader):\n",
    "        model.eval()\n",
    "        total_acc, total_count = 0, 0\n",
    "        with torch.no_grad():\n",
    "            for idx, (inputs, target) in enumerate(dataloader):\n",
    "                outputs = model(inputs)\n",
    "                loss = loss_function(outputs, target)\n",
    "                total_acc += (outputs.argmax(1) == label).sum().item()\n",
    "                total_count += label.size(0)\n",
    "        return total_acc/total_count"
   ]
  },
  {
   "cell_type": "code",
   "execution_count": 14,
   "metadata": {},
   "outputs": [],
   "source": [
    "trainer = Train_text(model, train_loader)\n"
   ]
  },
  {
   "cell_type": "code",
   "execution_count": 15,
   "metadata": {},
   "outputs": [
    {
     "name": "stdout",
     "output_type": "stream",
     "text": [
      "| epoch   0 |   100/ 1287 batches | accuracy    0.277\n",
      "| epoch   0 |   200/ 1287 batches | accuracy    0.327\n",
      "| epoch   0 |   300/ 1287 batches | accuracy    0.389\n",
      "| epoch   0 |   400/ 1287 batches | accuracy    0.439\n",
      "| epoch   0 |   500/ 1287 batches | accuracy    0.463\n",
      "| epoch   0 |   600/ 1287 batches | accuracy    0.518\n",
      "| epoch   0 |   700/ 1287 batches | accuracy    0.544\n",
      "| epoch   0 |   800/ 1287 batches | accuracy    0.544\n",
      "| epoch   0 |   900/ 1287 batches | accuracy    0.558\n",
      "| epoch   0 |  1000/ 1287 batches | accuracy    0.605\n",
      "| epoch   0 |  1100/ 1287 batches | accuracy    0.632\n",
      "| epoch   0 |  1200/ 1287 batches | accuracy    0.649\n",
      "| epoch   1 |   100/ 1287 batches | accuracy    0.666\n",
      "| epoch   1 |   200/ 1287 batches | accuracy    0.673\n",
      "| epoch   1 |   300/ 1287 batches | accuracy    0.681\n",
      "| epoch   1 |   400/ 1287 batches | accuracy    0.681\n",
      "| epoch   1 |   500/ 1287 batches | accuracy    0.690\n",
      "| epoch   1 |   600/ 1287 batches | accuracy    0.720\n",
      "| epoch   1 |   700/ 1287 batches | accuracy    0.752\n",
      "| epoch   1 |   800/ 1287 batches | accuracy    0.736\n",
      "| epoch   1 |   900/ 1287 batches | accuracy    0.736\n",
      "| epoch   1 |  1000/ 1287 batches | accuracy    0.760\n",
      "| epoch   1 |  1100/ 1287 batches | accuracy    0.773\n",
      "| epoch   1 |  1200/ 1287 batches | accuracy    0.791\n"
     ]
    }
   ],
   "source": [
    "trainer.train(loss_function,optimizer)"
   ]
  }
 ],
 "metadata": {
  "kernelspec": {
   "display_name": "Python 3 (ipykernel)",
   "language": "python",
   "name": "python3"
  },
  "language_info": {
   "codemirror_mode": {
    "name": "ipython",
    "version": 3
   },
   "file_extension": ".py",
   "mimetype": "text/x-python",
   "name": "python",
   "nbconvert_exporter": "python",
   "pygments_lexer": "ipython3",
   "version": "3.9.6"
  }
 },
 "nbformat": 4,
 "nbformat_minor": 4
}
